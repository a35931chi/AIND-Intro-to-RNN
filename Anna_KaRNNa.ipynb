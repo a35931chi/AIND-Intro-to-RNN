{
 "cells": [
  {
   "cell_type": "markdown",
   "metadata": {},
   "source": [
    "# Anna KaRNNa\n",
    "\n",
    "In this notebook, we'll build a character-wise RNN trained on Anna Karenina, one of my all-time favorite books. It'll be able to generate new text based on the text from the book.\n",
    "\n",
    "This network is based off of Andrej Karpathy's [post on RNNs](http://karpathy.github.io/2015/05/21/rnn-effectiveness/) and [implementation in Torch](https://github.com/karpathy/char-rnn). Also, some information [here at r2rt](http://r2rt.com/recurrent-neural-networks-in-tensorflow-ii.html) and from [Sherjil Ozair](https://github.com/sherjilozair/char-rnn-tensorflow) on GitHub. Below is the general architecture of the character-wise RNN.\n",
    "\n",
    "<img src=\"assets/charseq.jpeg\" width=\"500\">"
   ]
  },
  {
   "cell_type": "code",
   "execution_count": 1,
   "metadata": {},
   "outputs": [],
   "source": [
    "import time\n",
    "from collections import namedtuple\n",
    "\n",
    "import numpy as np\n",
    "import tensorflow as tf"
   ]
  },
  {
   "cell_type": "markdown",
   "metadata": {},
   "source": [
    "First we'll load the text file and convert it into integers for our network to use. Here I'm creating a couple dictionaries to convert the characters to and from integers. Encoding the characters as integers makes it easier to use as input in the network."
   ]
  },
  {
   "cell_type": "code",
   "execution_count": 81,
   "metadata": {},
   "outputs": [],
   "source": [
    "#import the anna k text, standard\n",
    "with open('anna.txt', 'r') as f:\n",
    "    text=f.read()\n",
    "vocab = sorted(set(text)) #vocab are chars, not words\n",
    "vocab_to_int = {c: i for i, c in enumerate(vocab)} #two dictionaries, one with words to encoding\n",
    "int_to_vocab = dict(enumerate(vocab)) #one is the reverse\n",
    "encoded = np.array([vocab_to_int[c] for c in text], dtype=np.int32) #so this is just an array of chars"
   ]
  },
  {
   "cell_type": "markdown",
   "metadata": {},
   "source": [
    "Let's check out the first 100 characters, make sure everything is peachy. According to the [American Book Review](http://americanbookreview.org/100bestlines.asp), this is the 6th best first line of a book ever."
   ]
  },
  {
   "cell_type": "code",
   "execution_count": 82,
   "metadata": {},
   "outputs": [
    {
     "data": {
      "text/plain": [
       "'Chapter 1\\n\\n\\nHappy families are all alike; every unhappy family is unhappy in its own\\nway.\\n\\nEverythin'"
      ]
     },
     "execution_count": 82,
     "metadata": {},
     "output_type": "execute_result"
    }
   ],
   "source": [
    "text[:100]"
   ]
  },
  {
   "cell_type": "markdown",
   "metadata": {},
   "source": [
    "And we can see the characters encoded as integers."
   ]
  },
  {
   "cell_type": "code",
   "execution_count": 83,
   "metadata": {},
   "outputs": [
    {
     "data": {
      "text/plain": [
       "array([31, 64, 57, 72, 76, 61, 74,  1, 16,  0,  0,  0, 36, 57, 72, 72, 81,\n",
       "        1, 62, 57, 69, 65, 68, 65, 61, 75,  1, 57, 74, 61,  1, 57, 68, 68,\n",
       "        1, 57, 68, 65, 67, 61, 26,  1, 61, 78, 61, 74, 81,  1, 77, 70, 64,\n",
       "       57, 72, 72, 81,  1, 62, 57, 69, 65, 68, 81,  1, 65, 75,  1, 77, 70,\n",
       "       64, 57, 72, 72, 81,  1, 65, 70,  1, 65, 76, 75,  1, 71, 79, 70,  0,\n",
       "       79, 57, 81, 13,  0,  0, 33, 78, 61, 74, 81, 76, 64, 65, 70])"
      ]
     },
     "execution_count": 83,
     "metadata": {},
     "output_type": "execute_result"
    }
   ],
   "source": [
    "encoded[:100]"
   ]
  },
  {
   "cell_type": "markdown",
   "metadata": {},
   "source": [
    "Since the network is working with individual characters, it's similar to a classification problem in which we are trying to predict the next character from the previous text.  Here's how many 'classes' our network has to pick from."
   ]
  },
  {
   "cell_type": "code",
   "execution_count": 84,
   "metadata": {},
   "outputs": [
    {
     "data": {
      "text/plain": [
       "83"
      ]
     },
     "execution_count": 84,
     "metadata": {},
     "output_type": "execute_result"
    }
   ],
   "source": [
    "len(vocab)"
   ]
  },
  {
   "cell_type": "markdown",
   "metadata": {},
   "source": [
    "## Making training mini-batches\n",
    "\n",
    "Here is where we'll make our mini-batches for training. Remember that we want our batches to be multiple sequences of some desired number of sequence steps. Considering a simple example, our batches would look like this:\n",
    "\n",
    "<img src=\"assets/sequence_batching@1x.png\" width=500px>\n",
    "\n",
    "\n",
    "<br>\n",
    "\n",
    "We start with our text encoded as integers in one long array in `encoded`. Let's create a function that will give us an iterator for our batches. I like using [generator functions](https://jeffknupp.com/blog/2013/04/07/improve-your-python-yield-and-generators-explained/) to do this. Then we can pass `encoded` into this function and get our batch generator.\n",
    "\n",
    "The first thing we need to do is discard some of the text so we only have completely full batches. Each batch contains $N \\times M$ characters, where $N$ is the batch size (the number of sequences) and $M$ is the number of steps. Then, to get the total number of batches, $K$, we can make from the array `arr`, you divide the length of `arr` by the number of characters per batch. Once you know the number of batches, you can get the total number of characters to keep from `arr`, $N * M * K$.\n",
    "\n",
    "After that, we need to split `arr` into $N$ sequences. You can do this using `arr.reshape(size)` where `size` is a tuple containing the dimensions sizes of the reshaped array. We know we want $N$ sequences (`batch_size` below), let's make that the size of the first dimension. For the second dimension, you can use `-1` as a placeholder in the size, it'll fill up the array with the appropriate data for you. After this, you should have an array that is $N \\times (M * K)$.\n",
    "\n",
    "Now that we have this array, we can iterate through it to get our batches. The idea is each batch is a $N \\times M$ window on the $N \\times (M * K)$ array. For each subsequent batch, the window moves over by `n_steps`. We also want to create both the input and target arrays. Remember that the targets are the inputs shifted over one character. \n",
    "\n",
    "The way I like to do this window is use `range` to take steps of size `n_steps` from $0$ to `arr.shape[1]`, the total number of steps in each sequence. That way, the integers you get from `range` always point to the start of a batch, and each window is `n_steps` wide.\n",
    "\n",
    "> **Exercise:** Write the code for creating batches in the function below. The exercises in this notebook _will not be easy_. I've provided a notebook with solutions alongside this notebook. If you get stuck, checkout the solutions. The most important thing is that you don't copy and paste the code into here, **type out the solution code yourself.**"
   ]
  },
  {
   "cell_type": "code",
   "execution_count": 94,
   "metadata": {},
   "outputs": [],
   "source": [
    "self = False\n",
    "#if True, then I wrote the code. if False, then we are using the answer"
   ]
  },
  {
   "cell_type": "code",
   "execution_count": 95,
   "metadata": {},
   "outputs": [],
   "source": [
    "#this is to setup the batches to feed into the RNN\n",
    "if self:\n",
    "    def get_batches(arr, batch_size, n_steps):\n",
    "        '''Create a generator that returns batches of size\n",
    "           batch_size x n_steps from arr.\n",
    "\n",
    "           Arguments\n",
    "           ---------\n",
    "           arr: Array you want to make batches from\n",
    "           batch_size: Batch size, the number of sequences per batch\n",
    "           n_steps: Number of sequence steps per batch\n",
    "        '''\n",
    "        # Get the number of characters per batch and number of batches we can make\n",
    "        characters_per_batch = batch_size * n_steps # seems like for this portion, I'm trying to figure out how many chars I'd have for each batch\n",
    "        n_batches = len(arr)//characters_per_batch #getting the actual number of batches\n",
    "\n",
    "        # Keep only enough characters to make full batches\n",
    "        arr = arr[:characters_per_batch * n_batches] #this is to trim the tail\n",
    "\n",
    "        # Reshape into batch_size rows\n",
    "        arr = arr.reshape((batch_size, -1)) # this is the fold the array into the number of batch sizes\n",
    "\n",
    "        for n in range(0, arr.shape[1], n_steps):\n",
    "            # The features\n",
    "            x = arr[:, n:n+n_steps]\n",
    "            # The targets, shifted by one\n",
    "            y_temp = arr[:, n+1:n+n_steps+1]\n",
    "            y = np.zeros(x.shape, dtype = x.dtype)\n",
    "            y[:, :y_temp.shape[1]] = y_temp\n",
    "            yield x, y\n",
    "\n",
    "else: #answers\n",
    "    def get_batches(arr, batch_size, n_steps):\n",
    "\n",
    "        # Get the number of characters per batch and number of batches we can make\n",
    "        chars_per_batch = batch_size * n_steps\n",
    "        n_batches = len(arr)//chars_per_batch\n",
    "\n",
    "        # Keep only enough characters to make full batches\n",
    "        arr = arr[:n_batches * chars_per_batch]\n",
    "\n",
    "        # Reshape into batch_size rows\n",
    "        arr = arr.reshape((batch_size, -1))\n",
    "\n",
    "        for n in range(0, arr.shape[1], n_steps):\n",
    "            # The features\n",
    "            x = arr[:, n:n+n_steps]\n",
    "            # The targets, shifted by one\n",
    "            y_temp = arr[:, n+1:n+n_steps+1]\n",
    "\n",
    "            # For the very last batch, y will be one character short at the end of \n",
    "            # the sequences which breaks things. To get around this, I'll make an \n",
    "            # array of the appropriate size first, of all zeros, then add the targets.\n",
    "            # This will introduce a small artifact in the last batch, but it won't matter.\n",
    "            y = np.zeros(x.shape, dtype=x.dtype)\n",
    "            y[:,:y_temp.shape[1]] = y_temp\n",
    "            #y[:, :-1], y[:, -1] = x[:, 1:], x[:, 0], why do people do this? I dunno\n",
    "\n",
    "            yield x, y\n"
   ]
  },
  {
   "cell_type": "markdown",
   "metadata": {},
   "source": [
    "Now I'll make my data sets and we can check out what's going on here. Here I'm going to use a batch size of 10 and 50 sequence steps."
   ]
  },
  {
   "cell_type": "code",
   "execution_count": 96,
   "metadata": {},
   "outputs": [],
   "source": [
    "batches = get_batches(encoded, 10, 50)\n",
    "x, y = next(batches)"
   ]
  },
  {
   "cell_type": "code",
   "execution_count": 97,
   "metadata": {},
   "outputs": [
    {
     "name": "stdout",
     "output_type": "stream",
     "text": [
      "x\n",
      " [[31 64 57 72 76 61 74  1 16  0]\n",
      " [ 1 57 69  1 70 71 76  1 63 71]\n",
      " [78 65 70 13  0  0  3 53 61 75]\n",
      " [70  1 60 77 74 65 70 63  1 64]\n",
      " [ 1 65 76  1 65 75 11  1 75 65]\n",
      " [ 1 37 76  1 79 57 75  0 71 70]\n",
      " [64 61 70  1 59 71 69 61  1 62]\n",
      " [26  1 58 77 76  1 70 71 79  1]\n",
      " [76  1 65 75 70  7 76 13  1 48]\n",
      " [ 1 75 57 65 60  1 76 71  1 64]]\n",
      "\n",
      "y\n",
      " [[64 57 72 76 61 74  1 16  0  0]\n",
      " [57 69  1 70 71 76  1 63 71 65]\n",
      " [65 70 13  0  0  3 53 61 75 11]\n",
      " [ 1 60 77 74 65 70 63  1 64 65]\n",
      " [65 76  1 65 75 11  1 75 65 74]\n",
      " [37 76  1 79 57 75  0 71 70 68]\n",
      " [61 70  1 59 71 69 61  1 62 71]\n",
      " [ 1 58 77 76  1 70 71 79  1 75]\n",
      " [ 1 65 75 70  7 76 13  1 48 64]\n",
      " [75 57 65 60  1 76 71  1 64 61]]\n"
     ]
    }
   ],
   "source": [
    "#this is from my execution\n",
    "print('x\\n', x[:10, :10])\n",
    "print('\\ny\\n', y[:10, :10])"
   ]
  },
  {
   "cell_type": "code",
   "execution_count": 98,
   "metadata": {},
   "outputs": [
    {
     "name": "stdout",
     "output_type": "stream",
     "text": [
      "x\n",
      " [[31 64 57 72 76 61 74  1 16  0]\n",
      " [ 1 57 69  1 70 71 76  1 63 71]\n",
      " [78 65 70 13  0  0  3 53 61 75]\n",
      " [70  1 60 77 74 65 70 63  1 64]\n",
      " [ 1 65 76  1 65 75 11  1 75 65]\n",
      " [ 1 37 76  1 79 57 75  0 71 70]\n",
      " [64 61 70  1 59 71 69 61  1 62]\n",
      " [26  1 58 77 76  1 70 71 79  1]\n",
      " [76  1 65 75 70  7 76 13  1 48]\n",
      " [ 1 75 57 65 60  1 76 71  1 64]]\n",
      "\n",
      "y\n",
      " [[64 57 72 76 61 74  1 16  0  0]\n",
      " [57 69  1 70 71 76  1 63 71 65]\n",
      " [65 70 13  0  0  3 53 61 75 11]\n",
      " [ 1 60 77 74 65 70 63  1 64 65]\n",
      " [65 76  1 65 75 11  1 75 65 74]\n",
      " [37 76  1 79 57 75  0 71 70 68]\n",
      " [61 70  1 59 71 69 61  1 62 71]\n",
      " [ 1 58 77 76  1 70 71 79  1 75]\n",
      " [ 1 65 75 70  7 76 13  1 48 64]\n",
      " [75 57 65 60  1 76 71  1 64 61]]\n"
     ]
    }
   ],
   "source": [
    "#this is from the original code\n",
    "print('x\\n', x[:10, :10])\n",
    "print('\\ny\\n', y[:10, :10])"
   ]
  },
  {
   "cell_type": "markdown",
   "metadata": {},
   "source": [
    "If you implemented `get_batches` correctly, the above output should look something like \n",
    "```\n",
    "x\n",
    " [[55 63 69 22  6 76 45  5 16 35]\n",
    " [ 5 69  1  5 12 52  6  5 56 52]\n",
    " [48 29 12 61 35 35  8 64 76 78]\n",
    " [12  5 24 39 45 29 12 56  5 63]\n",
    " [ 5 29  6  5 29 78 28  5 78 29]\n",
    " [ 5 13  6  5 36 69 78 35 52 12]\n",
    " [63 76 12  5 18 52  1 76  5 58]\n",
    " [34  5 73 39  6  5 12 52 36  5]\n",
    " [ 6  5 29 78 12 79  6 61  5 59]\n",
    " [ 5 78 69 29 24  5  6 52  5 63]]\n",
    "\n",
    "y\n",
    " [[63 69 22  6 76 45  5 16 35 35]\n",
    " [69  1  5 12 52  6  5 56 52 29]\n",
    " [29 12 61 35 35  8 64 76 78 28]\n",
    " [ 5 24 39 45 29 12 56  5 63 29]\n",
    " [29  6  5 29 78 28  5 78 29 45]\n",
    " [13  6  5 36 69 78 35 52 12 43]\n",
    " [76 12  5 18 52  1 76  5 58 52]\n",
    " [ 5 73 39  6  5 12 52 36  5 78]\n",
    " [ 5 29 78 12 79  6 61  5 59 63]\n",
    " [78 69 29 24  5  6 52  5 63 76]]\n",
    " ```\n",
    " although the exact numbers will be different. Check to make sure the data is shifted over one step for `y`."
   ]
  },
  {
   "cell_type": "markdown",
   "metadata": {},
   "source": [
    "## Building the model\n",
    "\n",
    "Below is where you'll build the network. We'll break it up into parts so it's easier to reason about each bit. Then we can connect them up into the whole network.\n",
    "\n",
    "<img src=\"assets/charRNN.png\" width=500px>\n",
    "\n",
    "\n",
    "### Inputs\n",
    "\n",
    "First off we'll create our input placeholders. As usual we need placeholders for the training data and the targets. We'll also create a placeholder for dropout layers called `keep_prob`. This will be a scalar, that is a 0-D tensor. To make a scalar, you create a placeholder without giving it a size.\n",
    "\n",
    "> **Exercise:** Create the input placeholders in the function below."
   ]
  },
  {
   "cell_type": "code",
   "execution_count": 99,
   "metadata": {},
   "outputs": [],
   "source": [
    "#define the inputs, set up the size and tf placeholders, note that this is the yellow part on the diagram\n",
    "if self:\n",
    "    def build_inputs(batch_size, num_steps):\n",
    "        ''' Define placeholders for inputs, targets, and dropout \n",
    "\n",
    "            Arguments\n",
    "            ---------\n",
    "            batch_size: Batch size, number of sequences per batch\n",
    "            num_steps: Number of sequence steps in a batch\n",
    "\n",
    "        '''\n",
    "        # Declare placeholders we'll feed into the graph\n",
    "        inputs = tf.placeholder(tf.int32, [batch_size, n_steps], name = 'inputs') #note that for both the input and targets, the size are batch_size (row) x num_steps(cols/num seq)\n",
    "        targets = tf.placeholder(tf.int32, [batch_size, n_steps], name = 'targets') #note that imputs and targets are the same, just targets will be shifted by one\n",
    "\n",
    "        # Keep probability placeholder for drop out layers\n",
    "        keep_prob = tf.placeholder(tf.float32, name='keep_prob')\n",
    "\n",
    "        return inputs, targets, keep_prob\n",
    "else: #answer\n",
    "    def build_inputs(batch_size, num_steps):\n",
    "        # Declare placeholders we'll feed into the graph\n",
    "        inputs = tf.placeholder(tf.int32, [batch_size, num_steps], name='inputs') #are naming necessary? not sure\n",
    "        targets = tf.placeholder(tf.int32, [batch_size, num_steps], name='targets')\n",
    "\n",
    "        # Keep probability placeholder for drop out layers\n",
    "        keep_prob = tf.placeholder(tf.float32, name='keep_prob')\n",
    "\n",
    "        return inputs, targets, keep_prob"
   ]
  },
  {
   "cell_type": "markdown",
   "metadata": {},
   "source": [
    "### LSTM Cell\n",
    "\n",
    "Here we will create the LSTM cell we'll use in the hidden layer. We'll use this cell as a building block for the RNN. So we aren't actually defining the RNN here, just the type of cell we'll use in the hidden layer.\n",
    "\n",
    "We first create a basic LSTM cell with\n",
    "\n",
    "```python\n",
    "lstm = tf.contrib.rnn.BasicLSTMCell(num_units)\n",
    "```\n",
    "\n",
    "where `num_units` is the number of units in the hidden layers in the cell. Then we can add dropout by wrapping it with \n",
    "\n",
    "```python\n",
    "tf.contrib.rnn.DropoutWrapper(lstm, output_keep_prob=keep_prob)\n",
    "```\n",
    "You pass in a cell and it will automatically add dropout to the inputs or outputs. Finally, we can stack up the LSTM cells into layers with [`tf.contrib.rnn.MultiRNNCell`](https://www.tensorflow.org/versions/r1.0/api_docs/python/tf/contrib/rnn/MultiRNNCell). With this, you pass in a list of cells and it will send the output of one cell into the next cell. Previously with TensorFlow 1.0, you could do this\n",
    "\n",
    "```python\n",
    "tf.contrib.rnn.MultiRNNCell([cell]*num_layers)\n",
    "```\n",
    "\n",
    "This might look a little weird if you know Python well because this will create a list of the same `cell` object. However, TensorFlow 1.0 will create different weight matrices for all `cell` objects. But, starting with TensorFlow 1.1 you actually need to create new cell objects in the list. To get it to work in TensorFlow 1.1, it should look like\n",
    "\n",
    "```python\n",
    "def build_cell(num_units, keep_prob):\n",
    "    lstm = tf.contrib.rnn.BasicLSTMCell(num_units)\n",
    "    drop = tf.contrib.rnn.DropoutWrapper(lstm, output_keep_prob=keep_prob)\n",
    "    \n",
    "    return drop\n",
    "    \n",
    "tf.contrib.rnn.MultiRNNCell([build_cell(num_units, keep_prob) for _ in range(num_layers)])\n",
    "```\n",
    "\n",
    "Even though this is actually multiple LSTM cells stacked on each other, you can treat the multiple layers as one cell.\n",
    "\n",
    "We also need to create an initial cell state of all zeros. This can be done like so\n",
    "\n",
    "```python\n",
    "initial_state = cell.zero_state(batch_size, tf.float32)\n",
    "```\n",
    "\n",
    "Below, we implement the `build_lstm` function to create these LSTM cells and the initial state."
   ]
  },
  {
   "cell_type": "markdown",
   "metadata": {},
   "source": [
    "<img src=\"assets/charRNN.png\" width=500px>"
   ]
  },
  {
   "cell_type": "code",
   "execution_count": 100,
   "metadata": {},
   "outputs": [],
   "source": [
    "# note that this is the red parts in the diagram\n",
    "# define cell first, then link them later\n",
    "\n",
    "if self:\n",
    "    def build_lstm(lstm_size, num_layers, batch_size, keep_prob):\n",
    "        ''' Build LSTM cell.\n",
    "\n",
    "            Arguments\n",
    "            ---------\n",
    "            keep_prob: Scalar tensor (tf.placeholder) for the dropout keep probability\n",
    "            lstm_size: Size of the hidden layers in the LSTM cells\n",
    "            num_layers: Number of LSTM layers\n",
    "            batch_size: Batch size\n",
    "\n",
    "        '''\n",
    "        ### Build the LSTM Cell\n",
    "\n",
    "        def build_cell(lstm_size, keep_prob): #define LSTM size and its dropout\n",
    "            # Use a basic LSTM cell\n",
    "            lstm = tf.contrib.rnn.BasicLSTMCell(lstm_size) #size of the hidden layers\n",
    "\n",
    "            # Add dropout to the cell\n",
    "            drop = tf.contrib.rnn.DropoutWrapper(lstm, output_keep_prob=keep_prob)\n",
    "            return drop\n",
    "\n",
    "\n",
    "        # Stack up multiple LSTM layers, for deep learning, multiple layers\n",
    "        # I guess in MultiRNNCell, you first have to define each cell. then you stack them with the layers\n",
    "        # I guess in this case, each layer is the same size\n",
    "        cell = tf.contrib.rnn.MultiRNNCell([build_cell(lstm_size, keep_prob) for _ in range(num_layers)])\n",
    "        initial_state = cell.zero_state(batch_size, tf.float32) #remember to define the initial state\n",
    "\n",
    "        return cell, initial_state\n",
    "else:\n",
    "    def build_lstm(lstm_size, num_layers, batch_size, keep_prob):\n",
    "        ### Build the LSTM Cell\n",
    "\n",
    "        def build_cell(lstm_size, keep_prob):\n",
    "            # Use a basic LSTM cell\n",
    "            lstm = tf.contrib.rnn.BasicLSTMCell(lstm_size)\n",
    "\n",
    "            # Add dropout to the cell\n",
    "            drop = tf.contrib.rnn.DropoutWrapper(lstm, output_keep_prob=keep_prob)\n",
    "            return drop\n",
    "\n",
    "\n",
    "        # Stack up multiple LSTM layers, for deep learning\n",
    "        cell = tf.contrib.rnn.MultiRNNCell([build_cell(lstm_size, keep_prob) for _ in range(num_layers)])\n",
    "        initial_state = cell.zero_state(batch_size, tf.float32)\n",
    "\n",
    "        return cell, initial_state"
   ]
  },
  {
   "cell_type": "markdown",
   "metadata": {},
   "source": [
    "### RNN Output\n",
    "\n",
    "Here we'll create the output layer. We need to connect the output of the RNN cells to a full connected layer with a softmax output. The softmax output gives us a probability distribution we can use to predict the next character, so we want this layer to have size $C$, the number of classes/characters we have in our text.\n",
    "\n",
    "If our input has batch size $N$, number of steps $M$, and the hidden layer has $L$ hidden units, then the output is a 3D tensor with size $N \\times M \\times L$. The output of each LSTM cell has size $L$, we have $M$ of them, one for each sequence step, and we have $N$ sequences. So the total size is $N \\times M \\times L$. \n",
    "\n",
    "We are using the same fully connected layer, the same weights, for each of the outputs. Then, to make things easier, we should reshape the outputs into a 2D tensor with shape $(M * N) \\times L$. That is, one row for each sequence and step, where the values of each row are the output from the LSTM cells. We get the LSTM output as a list, `lstm_output`. First we need to concatenate this whole list into one array with [`tf.concat`](https://www.tensorflow.org/api_docs/python/tf/concat). Then, reshape it (with `tf.reshape`) to size $(M * N) \\times L$.\n",
    "\n",
    "One we have the outputs reshaped, we can do the matrix multiplication with the weights. We need to wrap the weight and bias variables in a variable scope with `tf.variable_scope(scope_name)` because there are weights being created in the LSTM cells. TensorFlow will throw an error if the weights created here have the same names as the weights created in the LSTM cells, which they will be default. To avoid this, we wrap the variables in a variable scope so we can give them unique names.\n",
    "\n",
    "> **Exercise:** Implement the output layer in the function below."
   ]
  },
  {
   "cell_type": "markdown",
   "metadata": {},
   "source": [
    "<img src=\"assets/charRNN.png\" width=500px>"
   ]
  },
  {
   "cell_type": "code",
   "execution_count": 101,
   "metadata": {},
   "outputs": [],
   "source": [
    "# we dealt with the input, now we look at the output\n",
    "# this is where you have the logits that goes into your softmax activation. this this the green portion\n",
    "# in the illustration, we have 5 steps in the RNN, means we'll have 5 outputs, batch_size\n",
    "# number of sequences, which is num_steps\n",
    "# LSTM also have size within (hidden units), num_layers\n",
    "# the tensor coming out of lstm is 3D, batch size x num steps x hidden layer size\n",
    "if self:\n",
    "    def build_output(lstm_output, in_size, out_size):\n",
    "        ''' Build a softmax layer, return the softmax output and logits.\n",
    "\n",
    "            Arguments\n",
    "            ---------\n",
    "\n",
    "            lstm_output: List of output tensors from the LSTM layer\n",
    "            in_size: Size of the input tensor, for example, size of the LSTM cells\n",
    "            out_size: Size of this softmax layer\n",
    "\n",
    "        '''\n",
    "\n",
    "        # Reshape output so it's a bunch of rows, one row for each step for each sequence.\n",
    "        # Concatenate lstm_output over axis 1 (the columns)\n",
    "        seq_output = tf.concat(lstm_output, axis = 1) #I'm guessing there's a bunch of lstm_output that needs to be concat\n",
    "        # Reshape seq_output to a 2D tensor with lstm_size columns\n",
    "        x = tf.reshape(seq_output, [-1, in_size]) #I guess we need to reshape so whatever the output is will look like a 2D tensor\n",
    "\n",
    "        # Connect the RNN outputs to a softmax layer\n",
    "        with tf.variable_scope('softmax'): #this is interesting...\n",
    "            # Create the weight and bias variables here, under the variable scope of softmax...\n",
    "            softmax_w = tf.Variable(tf.truncated_normal((in_size, out_size), stddev = 0.1)) #note that the matrix size is in_size x out_size\n",
    "            softmax_b = tf.Variable(tf.zeros(out_size)) \n",
    "\n",
    "        # Since output is a bunch of rows of RNN cell outputs, logits will be a bunch\n",
    "        # of rows of logit outputs, one for each step and sequence\n",
    "        logits = tf.matmul(x, softmax_w) + softmax_b #not sure why this is not a tf.add()\n",
    "\n",
    "        # Use softmax to get the probabilities for predicted characters\n",
    "        out = tf.nn.softmax(logits)\n",
    "\n",
    "        return out, logits\n",
    "else:\n",
    "    def build_output(lstm_output, in_size, out_size):\n",
    "        # Reshape output so it's a bunch of rows, one row for each step for each sequence.\n",
    "        # That is, the shape should be batch_size*num_steps rows by lstm_size columns\n",
    "        seq_output = tf.concat(lstm_output, axis=1)\n",
    "        x = tf.reshape(seq_output, [-1, in_size])\n",
    "\n",
    "        # Connect the RNN outputs to a softmax layer\n",
    "        with tf.variable_scope('softmax'):\n",
    "            softmax_w = tf.Variable(tf.truncated_normal((in_size, out_size), stddev=0.1))\n",
    "            softmax_b = tf.Variable(tf.zeros(out_size))\n",
    "\n",
    "        # Since output is a bunch of rows of RNN cell outputs, logits will be a bunch\n",
    "        # of rows of logit outputs, one for each step and sequence\n",
    "        logits = tf.matmul(x, softmax_w) + softmax_b\n",
    "\n",
    "        # Use softmax to get the probabilities for predicted characters\n",
    "        out = tf.nn.softmax(logits, name='predictions')\n",
    "\n",
    "        return out, logits"
   ]
  },
  {
   "cell_type": "markdown",
   "metadata": {},
   "source": [
    "### Training loss\n",
    "\n",
    "Next up is the training loss. We get the logits and targets and calculate the softmax cross-entropy loss. First we need to one-hot encode the targets, we're getting them as encoded characters. Then, reshape the one-hot targets so it's a 2D tensor with size $(M*N) \\times C$ where $C$ is the number of classes/characters we have. Remember that we reshaped the LSTM outputs and ran them through a fully connected layer with $C$ units. So our logits will also have size $(M*N) \\times C$.\n",
    "\n",
    "Then we run the logits and targets through `tf.nn.softmax_cross_entropy_with_logits` and find the mean to get the loss.\n",
    "\n",
    ">**Exercise:** Implement the loss calculation in the function below."
   ]
  },
  {
   "cell_type": "code",
   "execution_count": 102,
   "metadata": {},
   "outputs": [],
   "source": [
    "# here we define loss. it is a cross entropy loss\n",
    "# we didn't one hot our targets so gotta do that, then reshape it into a 2d tensor like we did earlier with logits\n",
    "if self:\n",
    "    def build_loss(logits, targets, lstm_size, num_classes):\n",
    "        ''' Calculate the loss from the logits and the targets.\n",
    "\n",
    "            Arguments\n",
    "            ---------\n",
    "            logits: Logits from final fully connected layer\n",
    "            targets: Targets for supervised learning\n",
    "            lstm_size: Number of LSTM hidden units\n",
    "            num_classes: Number of classes in targets\n",
    "\n",
    "        '''\n",
    "\n",
    "        # One-hot encode targets and reshape to match logits, one row per sequence per step\n",
    "        y_one_hot = tf.one_hot(targets, num_classes) #first one hot the targets by the number of classes\n",
    "        y_reshaped = tf.reshape(y_one_hot, logits.get_shape()) #then reshape the one_hot outputs into what the logits look like (one row per sequence per step)\n",
    "\n",
    "        # Softmax cross entropy loss\n",
    "        loss = tf.nn.softmax_cross_entropy_with_logits(logits = logits, labels = y_reshaped) #loss is calculated with cross entropy\n",
    "        loss = tf.reduce_mean(loss) #accumulate the losses and you get your total loss\n",
    "\n",
    "        return loss\n",
    "else:\n",
    "    def build_loss(logits, targets, lstm_size, num_classes):\n",
    "        # One-hot encode targets and reshape to match logits, one row per batch_size per step\n",
    "        y_one_hot = tf.one_hot(targets, num_classes)\n",
    "        y_reshaped = tf.reshape(y_one_hot, logits.get_shape())\n",
    "\n",
    "        # Softmax cross entropy loss\n",
    "        loss = tf.nn.softmax_cross_entropy_with_logits(logits=logits, labels=y_reshaped)\n",
    "        loss = tf.reduce_mean(loss)\n",
    "        return loss"
   ]
  },
  {
   "cell_type": "markdown",
   "metadata": {},
   "source": [
    "### Optimizer\n",
    "\n",
    "Here we build the optimizer. Normal RNNs have have issues gradients exploding and disappearing. LSTMs fix the disappearance problem, but the gradients can still grow without bound. To fix this, we can clip the gradients above some threshold. That is, if a gradient is larger than that threshold, we set it to the threshold. This will ensure the gradients never grow overly large. Then we use an AdamOptimizer for the learning step."
   ]
  },
  {
   "cell_type": "code",
   "execution_count": 103,
   "metadata": {},
   "outputs": [],
   "source": [
    "# define optimizer for training, gradients can explode (lstm solves the disappearing problem)\n",
    "# the solution is to clip the gradient\n",
    "\n",
    "def build_optimizer(loss, learning_rate, grad_clip):\n",
    "    ''' Build optmizer for training, using gradient clipping.\n",
    "\n",
    "        Arguments:\n",
    "        loss: Network loss\n",
    "        learning_rate: Learning rate for optimizer\n",
    "\n",
    "    '''\n",
    "\n",
    "    # Optimizer for training, using gradient clipping to control exploding gradients\n",
    "    tvars = tf.trainable_variables()\n",
    "    grads, _ = tf.clip_by_global_norm(tf.gradients(loss, tvars), grad_clip)\n",
    "    train_op = tf.train.AdamOptimizer(learning_rate)\n",
    "    optimizer = train_op.apply_gradients(zip(grads, tvars))\n",
    "\n",
    "    return optimizer"
   ]
  },
  {
   "cell_type": "markdown",
   "metadata": {},
   "source": [
    "### Build the network\n",
    "\n",
    "Now we can put all the pieces together and build a class for the network. To actually run data through the LSTM cells, we will use [`tf.nn.dynamic_rnn`](https://www.tensorflow.org/versions/r1.0/api_docs/python/tf/nn/dynamic_rnn). This function will pass the hidden and cell states across LSTM cells appropriately for us. It returns the outputs for each LSTM cell at each step for each sequence in the mini-batch. It also gives us the final LSTM state. We want to save this state as `final_state` so we can pass it to the first LSTM cell in the the next mini-batch run. For `tf.nn.dynamic_rnn`, we pass in the cell and initial state we get from `build_lstm`, as well as our input sequences. Also, we need to one-hot encode the inputs before going into the RNN. \n",
    "\n",
    "> **Exercise:** Use the functions you've implemented previously and `tf.nn.dynamic_rnn` to build the network."
   ]
  },
  {
   "cell_type": "code",
   "execution_count": 104,
   "metadata": {},
   "outputs": [],
   "source": [
    "#define the RNN, and putting everything together\n",
    "class CharRNN:\n",
    "\n",
    "    def __init__(self, num_classes, batch_size=64, num_steps=50, \n",
    "                       lstm_size=128, num_layers=2, learning_rate=0.001, \n",
    "                       grad_clip=5, sampling=False):\n",
    "\n",
    "        # When we're using this network for sampling later, we'll be passing in\n",
    "        # one character at a time, so providing an option for that\n",
    "        if sampling == True:\n",
    "            batch_size, num_steps = 1, 1 #if you are sampling your chars, you need batch_size and num_steps to be 1s\n",
    "        else:\n",
    "            batch_size, num_steps = batch_size, num_steps\n",
    "\n",
    "        tf.reset_default_graph()\n",
    "\n",
    "        # 1. Build the input placeholder tensors, define inputs, targets and keep_prob, note that these are placeholders\n",
    "        self.inputs, self.targets, self.keep_prob = build_inputs(batch_size, num_steps)\n",
    "\n",
    "        # 2. Build the LSTM cell, define cell structure and initial state for the cell\n",
    "        cell, self.initial_state = build_lstm(lstm_size, num_layers, batch_size, self.keep_prob)\n",
    "\n",
    "        ### 3. Run the data through the RNN layers\n",
    "        # a. one-hot encode the input tokens\n",
    "        x_one_hot = tf.one_hot(self.inputs, num_classes)\n",
    "\n",
    "        # b. Run each sequence step through the RNN with tf.nn.dynamic_rnn. this is the running step, which will produce outputs and state\n",
    "        outputs, state = tf.nn.dynamic_rnn(cell, x_one_hot, initial_state=self.initial_state)\n",
    "        self.final_state = state\n",
    "\n",
    "        # c. Get softmax predictions and logits\n",
    "        self.prediction, self.logits = build_output(outputs, lstm_size, num_classes)\n",
    "\n",
    "        # d. Loss and optimizer (with gradient clipping)\n",
    "        self.loss =  build_loss(self.logits, self.targets, lstm_size, num_classes)\n",
    "        self.optimizer = build_optimizer(self.loss, learning_rate, grad_clip)"
   ]
  },
  {
   "cell_type": "markdown",
   "metadata": {},
   "source": [
    "## Hyperparameters\n",
    "\n",
    "Here are the hyperparameters for the network.\n",
    "\n",
    "* `batch_size` - Number of sequences running through the network in one pass.\n",
    "* `num_steps` - Number of characters in the sequence the network is trained on. Larger is better typically, the network will learn more long range dependencies. But it takes longer to train. 100 is typically a good number here.\n",
    "* `lstm_size` - The number of units in the hidden layers.\n",
    "* `num_layers` - Number of hidden LSTM layers to use\n",
    "* `learning_rate` - Learning rate for training\n",
    "* `keep_prob` - The dropout keep probability when training. If you're network is overfitting, try decreasing this.\n",
    "\n",
    "Here's some good advice from Andrej Karpathy on training the network. I'm going to copy it in here for your benefit, but also link to [where it originally came from](https://github.com/karpathy/char-rnn#tips-and-tricks).\n",
    "\n",
    "> ## Tips and Tricks\n",
    "\n",
    ">### Monitoring Validation Loss vs. Training Loss\n",
    ">If you're somewhat new to Machine Learning or Neural Networks it can take a bit of expertise to get good models. The most important quantity to keep track of is the difference between your training loss (printed during training) and the validation loss (printed once in a while when the RNN is run on the validation data (by default every 1000 iterations)). In particular:\n",
    "\n",
    "> - If your training loss is much lower than validation loss then this means the network might be **overfitting**. Solutions to this are to decrease your network size, or to increase dropout. For example you could try dropout of 0.5 and so on.\n",
    "> - If your training/validation loss are about equal then your model is **underfitting**. Increase the size of your model (either number of layers or the raw number of neurons per layer)\n",
    "\n",
    "> ### Approximate number of parameters\n",
    "\n",
    "> The two most important parameters that control the model are `lstm_size` and `num_layers`. I would advise that you always use `num_layers` of either 2/3. The `lstm_size` can be adjusted based on how much data you have. The two important quantities to keep track of here are:\n",
    "\n",
    "> - The number of parameters in your model. This is printed when you start training.\n",
    "> - The size of your dataset. 1MB file is approximately 1 million characters.\n",
    "\n",
    ">These two should be about the same order of magnitude. It's a little tricky to tell. Here are some examples:\n",
    "\n",
    "> - I have a 100MB dataset and I'm using the default parameter settings (which currently print 150K parameters). My data size is significantly larger (100 mil >> 0.15 mil), so I expect to heavily underfit. I am thinking I can comfortably afford to make `lstm_size` larger.\n",
    "> - I have a 10MB dataset and running a 10 million parameter model. I'm slightly nervous and I'm carefully monitoring my validation loss. If it's larger than my training loss then I may want to try to increase dropout a bit and see if that helps the validation loss.\n",
    "\n",
    "> ### Best models strategy\n",
    "\n",
    ">The winning strategy to obtaining very good models (if you have the compute time) is to always err on making the network larger (as large as you're willing to wait for it to compute) and then try different dropout values (between 0,1). Whatever model has the best validation performance (the loss, written in the checkpoint filename, low is good) is the one you should use in the end.\n",
    "\n",
    ">It is very common in deep learning to run many different models with many different hyperparameter settings, and in the end take whatever checkpoint gave the best validation performance.\n",
    "\n",
    ">By the way, the size of your training and validation splits are also parameters. Make sure you have a decent amount of data in your validation set or otherwise the validation performance will be noisy and not very informative."
   ]
  },
  {
   "cell_type": "code",
   "execution_count": 109,
   "metadata": {},
   "outputs": [],
   "source": [
    "#defining hyperparameters\n",
    "batch_size = 100        # Sequences per batch, this is like number of sequences per one run of RNN\n",
    "num_steps = 100         # Number of sequence steps per batch, this is like the length of combined chars you wanna trian on\n",
    "lstm_size = 512         # Size of hidden layers in LSTMs, number of units in the hidden layer\n",
    "num_layers = 2          # Number of LSTM layers, number of layers\n",
    "learning_rate = 0.001   # Learning rate\n",
    "keep_prob = 0.5         # Dropout keep probability, wow, so high??"
   ]
  },
  {
   "cell_type": "markdown",
   "metadata": {},
   "source": [
    "## Time for training\n",
    "\n",
    "This is typical training code, passing inputs and targets into the network, then running the optimizer. Here we also get back the final LSTM state for the mini-batch. Then, we pass that state back into the network so the next batch can continue the state from the previous batch. And every so often (set by `save_every_n`) I save a checkpoint.\n",
    "\n",
    "Here I'm saving checkpoints with the format\n",
    "\n",
    "`i{iteration number}_l{# hidden layer units}.ckpt`\n",
    "\n",
    "> **Exercise:** Set the hyperparameters above to train the network. Watch the training loss, it should be consistently dropping. Also, I highly advise running this on a GPU."
   ]
  },
  {
   "cell_type": "code",
   "execution_count": 110,
   "metadata": {
    "scrolled": true
   },
   "outputs": [
    {
     "name": "stdout",
     "output_type": "stream",
     "text": [
      "Epoch: 1/20...  Training Step: 50...  Training loss: 3.1748...  2.8275 sec/batch\n",
      "Epoch: 1/20...  Training Step: 100...  Training loss: 3.0684...  2.8075 sec/batch\n",
      "Epoch: 1/20...  Training Step: 150...  Training loss: 2.6494...  2.8746 sec/batch\n",
      "Epoch: 2/20...  Training Step: 200...  Training loss: 2.3948...  2.9328 sec/batch\n",
      "Epoch: 2/20...  Training Step: 250...  Training loss: 2.3120...  2.9007 sec/batch\n",
      "Epoch: 2/20...  Training Step: 300...  Training loss: 2.1981...  2.8456 sec/batch\n",
      "Epoch: 2/20...  Training Step: 350...  Training loss: 2.1458...  2.9669 sec/batch\n",
      "Epoch: 3/20...  Training Step: 400...  Training loss: 2.0276...  2.9097 sec/batch\n",
      "Epoch: 3/20...  Training Step: 450...  Training loss: 1.9559...  3.0240 sec/batch\n",
      "Epoch: 3/20...  Training Step: 500...  Training loss: 1.9042...  2.9002 sec/batch\n",
      "Epoch: 3/20...  Training Step: 550...  Training loss: 1.8787...  2.8927 sec/batch\n",
      "Epoch: 4/20...  Training Step: 600...  Training loss: 1.7662...  2.9228 sec/batch\n",
      "Epoch: 4/20...  Training Step: 650...  Training loss: 1.7762...  2.9328 sec/batch\n",
      "Epoch: 4/20...  Training Step: 700...  Training loss: 1.7313...  2.9067 sec/batch\n",
      "Epoch: 4/20...  Training Step: 750...  Training loss: 1.7099...  2.8997 sec/batch\n",
      "Epoch: 5/20...  Training Step: 800...  Training loss: 1.6527...  2.9940 sec/batch\n",
      "Epoch: 5/20...  Training Step: 850...  Training loss: 1.6195...  2.9498 sec/batch\n",
      "Epoch: 5/20...  Training Step: 900...  Training loss: 1.6118...  2.8536 sec/batch\n",
      "Epoch: 5/20...  Training Step: 950...  Training loss: 1.5883...  2.8797 sec/batch\n",
      "Epoch: 6/20...  Training Step: 1000...  Training loss: 1.5658...  2.8767 sec/batch\n",
      "Epoch: 6/20...  Training Step: 1050...  Training loss: 1.5837...  2.8175 sec/batch\n",
      "Epoch: 6/20...  Training Step: 1100...  Training loss: 1.5378...  2.9127 sec/batch\n",
      "Epoch: 6/20...  Training Step: 1150...  Training loss: 1.5351...  2.9238 sec/batch\n",
      "Epoch: 7/20...  Training Step: 1200...  Training loss: 1.4785...  2.8646 sec/batch\n",
      "Epoch: 7/20...  Training Step: 1250...  Training loss: 1.5271...  3.1123 sec/batch\n",
      "Epoch: 7/20...  Training Step: 1300...  Training loss: 1.4324...  2.8606 sec/batch\n",
      "Epoch: 7/20...  Training Step: 1350...  Training loss: 1.4310...  3.1343 sec/batch\n",
      "Epoch: 8/20...  Training Step: 1400...  Training loss: 1.4465...  2.8696 sec/batch\n",
      "Epoch: 8/20...  Training Step: 1450...  Training loss: 1.4334...  2.8837 sec/batch\n",
      "Epoch: 8/20...  Training Step: 1500...  Training loss: 1.3890...  2.8967 sec/batch\n",
      "Epoch: 8/20...  Training Step: 1550...  Training loss: 1.3933...  2.8686 sec/batch\n",
      "Epoch: 9/20...  Training Step: 1600...  Training loss: 1.3608...  2.8807 sec/batch\n",
      "Epoch: 9/20...  Training Step: 1650...  Training loss: 1.3759...  2.8386 sec/batch\n",
      "Epoch: 9/20...  Training Step: 1700...  Training loss: 1.3258...  2.8365 sec/batch\n",
      "Epoch: 9/20...  Training Step: 1750...  Training loss: 1.3377...  2.9027 sec/batch\n",
      "Epoch: 10/20...  Training Step: 1800...  Training loss: 1.3711...  2.9137 sec/batch\n",
      "Epoch: 10/20...  Training Step: 1850...  Training loss: 1.3163...  2.8285 sec/batch\n",
      "Epoch: 10/20...  Training Step: 1900...  Training loss: 1.3366...  2.9448 sec/batch\n",
      "Epoch: 10/20...  Training Step: 1950...  Training loss: 1.3910...  2.8265 sec/batch\n",
      "Epoch: 11/20...  Training Step: 2000...  Training loss: 1.3385...  2.9398 sec/batch\n",
      "Epoch: 11/20...  Training Step: 2050...  Training loss: 1.2905...  2.9117 sec/batch\n",
      "Epoch: 11/20...  Training Step: 2100...  Training loss: 1.2971...  2.8777 sec/batch\n",
      "Epoch: 11/20...  Training Step: 2150...  Training loss: 1.2882...  2.9087 sec/batch\n",
      "Epoch: 12/20...  Training Step: 2200...  Training loss: 1.3018...  2.8887 sec/batch\n",
      "Epoch: 12/20...  Training Step: 2250...  Training loss: 1.3052...  2.8716 sec/batch\n",
      "Epoch: 12/20...  Training Step: 2300...  Training loss: 1.2281...  2.8506 sec/batch\n",
      "Epoch: 12/20...  Training Step: 2350...  Training loss: 1.2508...  2.9368 sec/batch\n",
      "Epoch: 13/20...  Training Step: 2400...  Training loss: 1.2642...  2.9057 sec/batch\n",
      "Epoch: 13/20...  Training Step: 2450...  Training loss: 1.2435...  2.8987 sec/batch\n",
      "Epoch: 13/20...  Training Step: 2500...  Training loss: 1.2486...  2.8887 sec/batch\n",
      "Epoch: 13/20...  Training Step: 2550...  Training loss: 1.2519...  2.8676 sec/batch\n",
      "Epoch: 14/20...  Training Step: 2600...  Training loss: 1.2066...  2.8606 sec/batch\n",
      "Epoch: 14/20...  Training Step: 2650...  Training loss: 1.2643...  2.8747 sec/batch\n",
      "Epoch: 14/20...  Training Step: 2700...  Training loss: 1.1920...  2.9559 sec/batch\n",
      "Epoch: 14/20...  Training Step: 2750...  Training loss: 1.2123...  2.8375 sec/batch\n",
      "Epoch: 15/20...  Training Step: 2800...  Training loss: 1.2320...  2.9498 sec/batch\n",
      "Epoch: 15/20...  Training Step: 2850...  Training loss: 1.2324...  2.9599 sec/batch\n",
      "Epoch: 15/20...  Training Step: 2900...  Training loss: 1.2110...  2.9148 sec/batch\n",
      "Epoch: 15/20...  Training Step: 2950...  Training loss: 1.2599...  2.8746 sec/batch\n",
      "Epoch: 16/20...  Training Step: 3000...  Training loss: 1.2271...  2.9127 sec/batch\n",
      "Epoch: 16/20...  Training Step: 3050...  Training loss: 1.2141...  2.9208 sec/batch\n",
      "Epoch: 16/20...  Training Step: 3100...  Training loss: 1.1634...  2.8566 sec/batch\n",
      "Epoch: 16/20...  Training Step: 3150...  Training loss: 1.1778...  2.9930 sec/batch\n",
      "Epoch: 17/20...  Training Step: 3200...  Training loss: 1.1773...  2.9398 sec/batch\n",
      "Epoch: 17/20...  Training Step: 3250...  Training loss: 1.2021...  2.8235 sec/batch\n",
      "Epoch: 17/20...  Training Step: 3300...  Training loss: 1.1827...  3.0331 sec/batch\n",
      "Epoch: 17/20...  Training Step: 3350...  Training loss: 1.1945...  2.8636 sec/batch\n",
      "Epoch: 18/20...  Training Step: 3400...  Training loss: 1.1879...  2.8947 sec/batch\n",
      "Epoch: 18/20...  Training Step: 3450...  Training loss: 1.1889...  2.8225 sec/batch\n",
      "Epoch: 18/20...  Training Step: 3500...  Training loss: 1.1779...  2.9759 sec/batch\n",
      "Epoch: 18/20...  Training Step: 3550...  Training loss: 1.1726...  2.9057 sec/batch\n",
      "Epoch: 19/20...  Training Step: 3600...  Training loss: 1.1829...  2.8927 sec/batch\n",
      "Epoch: 19/20...  Training Step: 3650...  Training loss: 1.1754...  2.8285 sec/batch\n",
      "Epoch: 19/20...  Training Step: 3700...  Training loss: 1.1770...  2.9248 sec/batch\n",
      "Epoch: 19/20...  Training Step: 3750...  Training loss: 1.1527...  2.9168 sec/batch\n",
      "Epoch: 20/20...  Training Step: 3800...  Training loss: 1.1270...  2.9318 sec/batch\n",
      "Epoch: 20/20...  Training Step: 3850...  Training loss: 1.1514...  2.9368 sec/batch\n",
      "Epoch: 20/20...  Training Step: 3900...  Training loss: 1.1717...  2.9087 sec/batch\n",
      "Epoch: 20/20...  Training Step: 3950...  Training loss: 1.1484...  2.9158 sec/batch\n"
     ]
    }
   ],
   "source": [
    "epochs = 20\n",
    "# Print losses every N interations\n",
    "print_every_n = 50\n",
    "\n",
    "# Save every N iterations\n",
    "save_every_n = 200\n",
    "\n",
    "model = CharRNN(len(vocab), batch_size=batch_size, num_steps=num_steps,\n",
    "                lstm_size=lstm_size, num_layers=num_layers, \n",
    "                learning_rate=learning_rate)\n",
    "\n",
    "saver = tf.train.Saver(max_to_keep=100)\n",
    "with tf.Session() as sess:\n",
    "    sess.run(tf.global_variables_initializer())\n",
    "    \n",
    "    # Use the line below to load a checkpoint and resume training\n",
    "    #saver.restore(sess, 'checkpoints/______.ckpt')\n",
    "    counter = 0\n",
    "    for e in range(epochs):\n",
    "        # Train network\n",
    "        new_state = sess.run(model.initial_state)\n",
    "        loss = 0\n",
    "        for x, y in get_batches(encoded, batch_size, num_steps):\n",
    "            counter += 1\n",
    "            start = time.time()\n",
    "            feed = {model.inputs: x,\n",
    "                    model.targets: y,\n",
    "                    model.keep_prob: keep_prob,\n",
    "                    model.initial_state: new_state}\n",
    "            batch_loss, new_state, _ = sess.run([model.loss, \n",
    "                                                 model.final_state, \n",
    "                                                 model.optimizer], \n",
    "                                                 feed_dict=feed)\n",
    "            if (counter % print_every_n == 0):\n",
    "                end = time.time()\n",
    "                print('Epoch: {}/{}... '.format(e+1, epochs),\n",
    "                      'Training Step: {}... '.format(counter),\n",
    "                      'Training loss: {:.4f}... '.format(batch_loss),\n",
    "                      '{:.4f} sec/batch'.format((end-start)))\n",
    "        \n",
    "            if (counter % save_every_n == 0):\n",
    "                saver.save(sess, \"checkpoints/i{}_l{}.ckpt\".format(counter, lstm_size))\n",
    "    \n",
    "    saver.save(sess, \"checkpoints/i{}_l{}.ckpt\".format(counter, lstm_size))"
   ]
  },
  {
   "cell_type": "markdown",
   "metadata": {},
   "source": [
    "#### Saved checkpoints\n",
    "\n",
    "Read up on saving and loading checkpoints here: https://www.tensorflow.org/programmers_guide/variables"
   ]
  },
  {
   "cell_type": "code",
   "execution_count": 111,
   "metadata": {},
   "outputs": [
    {
     "data": {
      "text/plain": [
       "model_checkpoint_path: \"checkpoints\\\\i3960_l512.ckpt\"\n",
       "all_model_checkpoint_paths: \"checkpoints\\\\i200_l512.ckpt\"\n",
       "all_model_checkpoint_paths: \"checkpoints\\\\i400_l512.ckpt\"\n",
       "all_model_checkpoint_paths: \"checkpoints\\\\i600_l512.ckpt\"\n",
       "all_model_checkpoint_paths: \"checkpoints\\\\i800_l512.ckpt\"\n",
       "all_model_checkpoint_paths: \"checkpoints\\\\i1000_l512.ckpt\"\n",
       "all_model_checkpoint_paths: \"checkpoints\\\\i1200_l512.ckpt\"\n",
       "all_model_checkpoint_paths: \"checkpoints\\\\i1400_l512.ckpt\"\n",
       "all_model_checkpoint_paths: \"checkpoints\\\\i1600_l512.ckpt\"\n",
       "all_model_checkpoint_paths: \"checkpoints\\\\i1800_l512.ckpt\"\n",
       "all_model_checkpoint_paths: \"checkpoints\\\\i2000_l512.ckpt\"\n",
       "all_model_checkpoint_paths: \"checkpoints\\\\i2200_l512.ckpt\"\n",
       "all_model_checkpoint_paths: \"checkpoints\\\\i2400_l512.ckpt\"\n",
       "all_model_checkpoint_paths: \"checkpoints\\\\i2600_l512.ckpt\"\n",
       "all_model_checkpoint_paths: \"checkpoints\\\\i2800_l512.ckpt\"\n",
       "all_model_checkpoint_paths: \"checkpoints\\\\i3000_l512.ckpt\"\n",
       "all_model_checkpoint_paths: \"checkpoints\\\\i3200_l512.ckpt\"\n",
       "all_model_checkpoint_paths: \"checkpoints\\\\i3400_l512.ckpt\"\n",
       "all_model_checkpoint_paths: \"checkpoints\\\\i3600_l512.ckpt\"\n",
       "all_model_checkpoint_paths: \"checkpoints\\\\i3800_l512.ckpt\"\n",
       "all_model_checkpoint_paths: \"checkpoints\\\\i3960_l512.ckpt\""
      ]
     },
     "execution_count": 111,
     "metadata": {},
     "output_type": "execute_result"
    }
   ],
   "source": [
    "tf.train.get_checkpoint_state('checkpoints')"
   ]
  },
  {
   "cell_type": "markdown",
   "metadata": {},
   "source": [
    "## Sampling\n",
    "\n",
    "Now that the network is trained, we'll can use it to generate new text. The idea is that we pass in a character, then the network will predict the next character. We can use the new one, to predict the next one. And we keep doing this to generate all new text. I also included some functionality to prime the network with some text by passing in a string and building up a state from that.\n",
    "\n",
    "The network gives us predictions for each character. To reduce noise and make things a little less random, I'm going to only choose a new character from the top N most likely characters.\n",
    "\n"
   ]
  },
  {
   "cell_type": "code",
   "execution_count": 112,
   "metadata": {},
   "outputs": [],
   "source": [
    "def pick_top_n(preds, vocab_size, top_n=5):\n",
    "    p = np.squeeze(preds)\n",
    "    p[np.argsort(p)[:-top_n]] = 0\n",
    "    p = p / np.sum(p)\n",
    "    c = np.random.choice(vocab_size, 1, p=p)[0]\n",
    "    return c"
   ]
  },
  {
   "cell_type": "code",
   "execution_count": 113,
   "metadata": {},
   "outputs": [],
   "source": [
    "#sampling code\n",
    "def sample(checkpoint, n_samples, lstm_size, vocab_size, prime=\"The \"):\n",
    "    samples = [c for c in prime]\n",
    "    model = CharRNN(len(vocab), lstm_size=lstm_size, sampling=True)\n",
    "    saver = tf.train.Saver()\n",
    "    with tf.Session() as sess:\n",
    "        saver.restore(sess, checkpoint)\n",
    "        new_state = sess.run(model.initial_state)\n",
    "        for c in prime:\n",
    "            x = np.zeros((1, 1))\n",
    "            x[0,0] = vocab_to_int[c]\n",
    "            feed = {model.inputs: x,\n",
    "                    model.keep_prob: 1.,\n",
    "                    model.initial_state: new_state}\n",
    "            preds, new_state = sess.run([model.prediction, model.final_state], \n",
    "                                         feed_dict=feed)\n",
    "\n",
    "        c = pick_top_n(preds, len(vocab))\n",
    "        samples.append(int_to_vocab[c])\n",
    "\n",
    "        for i in range(n_samples):\n",
    "            x[0,0] = c\n",
    "            feed = {model.inputs: x,\n",
    "                    model.keep_prob: 1.,\n",
    "                    model.initial_state: new_state}\n",
    "            preds, new_state = sess.run([model.prediction, model.final_state], \n",
    "                                         feed_dict=feed)\n",
    "\n",
    "            c = pick_top_n(preds, len(vocab))\n",
    "            samples.append(int_to_vocab[c])\n",
    "        \n",
    "    return ''.join(samples)"
   ]
  },
  {
   "cell_type": "markdown",
   "metadata": {},
   "source": [
    "Here, pass in the path to a checkpoint and sample from the network."
   ]
  },
  {
   "cell_type": "code",
   "execution_count": 114,
   "metadata": {},
   "outputs": [
    {
     "data": {
      "text/plain": [
       "'checkpoints\\\\i3960_l512.ckpt'"
      ]
     },
     "execution_count": 114,
     "metadata": {},
     "output_type": "execute_result"
    }
   ],
   "source": [
    "tf.train.latest_checkpoint('checkpoints')"
   ]
  },
  {
   "cell_type": "code",
   "execution_count": 115,
   "metadata": {},
   "outputs": [
    {
     "name": "stdout",
     "output_type": "stream",
     "text": [
      "INFO:tensorflow:Restoring parameters from checkpoints\\i3960_l512.ckpt\n",
      "Farrages with a sense\n",
      "of her side.\n",
      "\n",
      "And how strange is a mere word hiderous family, and his house he\n",
      "could not always anything. A feeling of his stupid, and all, soon\n",
      "as he was all her husband's sisting, through the same dishay of\n",
      "concentions tears and the believers were a chusch, and this was she\n",
      "was, and shining a peopr she san in the fact. She had not helpless and\n",
      "talk of it. He had not seen her free household has business and\n",
      "thought thanks of a shame, to her hour. He saw his face, would not he\n",
      "won't be a ligitine to the children; that was so muth all of all horsion\n",
      "only one arisenes of husband's clothes, and had been sent out of her\n",
      "force--he did not have said a benefol. The meeding of hostility was alone,\n",
      "but what he's not for the people who had been all his weakness of\n",
      "heart with the baby, and so so that he heard that he saw in a shire of\n",
      "the sound of the backing of her face, he had brought anything to\n",
      "be defending them, and so strilled his husband had been burned his\n",
      "services, but he was not leaving that they would have been above all\n",
      "the sound of all that seemed and than he had both thinks to\n",
      "stard to him and she had asked her. He had been astacinely at the\n",
      "stables, and was a stall of this, to tried them was a single strange to\n",
      "a corder of thought of the sate in these days of his friendshal, as\n",
      "interesting to the same accordance when he was assamed--and that he was\n",
      "in the same assimate first in an old man who had to say in this\n",
      "mistake and the change with his book, as he sat to him to have a little\n",
      "bed. He came to the children of the same sincerity, though he did not\n",
      "know about her feeling about the country, and the simplest shrieks\n",
      "as he was not trying to see his face with the service. But she sounde\n",
      "the conversation that had come back to the middle of the beauty, and\n",
      "that he suggested that this had been solved her finging with his\n",
      "whisper. To her shoulders and all the same where he had said,\n",
      "this in the prince would be the same wife. He was in the son and\n",
      "tri\n"
     ]
    }
   ],
   "source": [
    "checkpoint = tf.train.latest_checkpoint('checkpoints') #use the latest checkpoints\n",
    "samp = sample(checkpoint, 2000, lstm_size, len(vocab), prime=\"Far\") #sample 2000 chars\n",
    "print(samp)"
   ]
  },
  {
   "cell_type": "code",
   "execution_count": 116,
   "metadata": {},
   "outputs": [
    {
     "name": "stdout",
     "output_type": "stream",
     "text": [
      "INFO:tensorflow:Restoring parameters from checkpoints/i200_l512.ckpt\n",
      "Farnd inte sas is ot on he asdist his had had he sone wase her\n",
      "he sand te he as this hus ans of at ot\n",
      "the wher afdethe toreserang ant thas hor ho the antores, hod hhe whed, the aderisge sim thin thet aled the sount orith thins thos\n",
      "ane andererad wos het thos seren son ou tir hime bere tare sis ofin the the wan thessis and ot oth and the\n",
      "\n",
      "poreses asis too ther soussand an thes asd weas the her alessont, and sou the\n",
      "shos he se ale witt ha simand what he her at on terered\n",
      "as ar on ato sithin, antin oned thet tot he woter hos sil ant the sot ther thes sotha site the sasen ont on sam inthen ans want the anthinte wes there to ment onthe shind anse here whe whe han ans he and ansand he sitot thas ard and tar oun had thim an soutt he hiss\n",
      "tont alighis thersered. \n",
      "him tealed ant\n",
      "onesin the\n",
      "tor herid sor tores tis ant he was thet, an tis ond hins ot ase he tererat an so thered ans\n",
      "anther\n",
      "hed af as on he that sot ase sose waste had sing whas wot so he heresins hothe had he an thime to shes ons won ho\n"
     ]
    }
   ],
   "source": [
    "# latest was 'checkpoints\\\\i3960_l512.ckpt'\n",
    "checkpoint = 'checkpoints/i200_l512.ckpt' #using the 200 iteration\n",
    "samp = sample(checkpoint, 1000, lstm_size, len(vocab), prime=\"Far\")\n",
    "print(samp)"
   ]
  },
  {
   "cell_type": "code",
   "execution_count": 117,
   "metadata": {},
   "outputs": [
    {
     "name": "stdout",
     "output_type": "stream",
     "text": [
      "INFO:tensorflow:Restoring parameters from checkpoints/i600_l512.ckpt\n",
      "Farclly one.\n",
      "\n",
      "\"What see he sondering to the celtoor.\"\n",
      "\n",
      "\"What it't not ase a the\n",
      "somary were in the same to her seeping the comstent, werened he sad the mating and hid and shouse she tere of hor the hered the pince of her had a mone, the said\n",
      "and he sander sond with her\n",
      "had been\n",
      "at her ald to shild her trought well her sunting to deer, when seen hored to the cromerten so dout out to\n",
      "the hadsen to she hen thought and and thoughe of the radent, was it and sanking her to dering at whet were to to as the saided,\n",
      "shimid at the carlens. And shand how simened and allays. The wist had all the herstered and to this seested that in that im, and what in ale as his tingerssion.\"\n",
      "\n",
      "\"Yes, said,\" shis is wise a sonce.\n",
      "\n",
      "\"Wher the mather, she dis, to sing it at her,\" was in her hears and he head to she taint he would bat time to him\n",
      "to the sithed. He canding to sompition of siment and that in that he was not a caring a callenting, and teret to he hough the priaces a sould\n",
      "becoused in to tee though and and at\n"
     ]
    }
   ],
   "source": [
    "# latest was 'checkpoints\\\\i3960_l512.ckpt'\n",
    "checkpoint = 'checkpoints/i600_l512.ckpt' #using the 600 iteration\n",
    "samp = sample(checkpoint, 1000, lstm_size, len(vocab), prime=\"Far\")\n",
    "print(samp)"
   ]
  },
  {
   "cell_type": "code",
   "execution_count": 118,
   "metadata": {},
   "outputs": [
    {
     "name": "stdout",
     "output_type": "stream",
     "text": [
      "INFO:tensorflow:Restoring parameters from checkpoints/i1200_l512.ckpt\n",
      "Farting her. He had been so take to his\n",
      "convencalion was a menting one of the conversance and heart which they had been all the porting of the\n",
      "racker.\n",
      "\n",
      "\"I did to see he had told a priech,\" said Levin, and showing the sawes of his how of\n",
      "the care and\n",
      "the sone of those strook, and she\n",
      "were up to the some sigh of hands, bug an it would be\n",
      "considions. She had already have to see all the faculy and the princess of his his been till, he\n",
      "cried to the provector her to\n",
      "him on his wife and said, that while had been hear to his his brothed.\n",
      "\n",
      "\"What are the same to the\n",
      "courtess was not been at the menter with the come out in the\n",
      "man that, and would have noticed about theme.\"\n",
      "\n",
      "\"I were is so me she that they treating a disage of the position along a love\n",
      "too mares and seemed,\" said Alexey, Alexandrovitch, and the strange take that he saw that she will spak a long them the part of the\n",
      "motting\n",
      "when he was stranging a ligtling and at the carrate, and would\n",
      "he dod't askone.\n",
      "\n",
      "\"You've are nister in his sout, a\n"
     ]
    }
   ],
   "source": [
    "# latest was 'checkpoints\\\\i3960_l512.ckpt'\n",
    "checkpoint = 'checkpoints/i1200_l512.ckpt' #using the 1200 iteration\n",
    "samp = sample(checkpoint, 1000, lstm_size, len(vocab), prime=\"Far\")\n",
    "print(samp)"
   ]
  },
  {
   "cell_type": "code",
   "execution_count": null,
   "metadata": {},
   "outputs": [],
   "source": []
  }
 ],
 "metadata": {
  "kernelspec": {
   "display_name": "Python 3",
   "language": "python",
   "name": "python3"
  },
  "language_info": {
   "codemirror_mode": {
    "name": "ipython",
    "version": 3
   },
   "file_extension": ".py",
   "mimetype": "text/x-python",
   "name": "python",
   "nbconvert_exporter": "python",
   "pygments_lexer": "ipython3",
   "version": "3.5.3"
  }
 },
 "nbformat": 4,
 "nbformat_minor": 2
}
